{
 "cells": [
  {
   "cell_type": "code",
   "execution_count": 3,
   "metadata": {},
   "outputs": [],
   "source": [
    "# Code for sort algorythims in sort_collection is copied from:\n",
    "# https://stackabuse.com/sorting-algorithms-in-python\n",
    "# and\n",
    "# https://www.programiz.com/dsa/radix-sort"
   ]
  },
  {
   "cell_type": "code",
   "execution_count": 4,
   "metadata": {},
   "outputs": [],
   "source": [
    "import numpy as np\n",
    "import pandas as pd\n",
    "from timeit import timeit"
   ]
  },
  {
   "cell_type": "code",
   "execution_count": 5,
   "metadata": {},
   "outputs": [],
   "source": [
    "runs    = 100\n",
    "min     = 0\n",
    "max     = 100\n",
    "size    = 1000\n",
    "reset_output_folder = False"
   ]
  },
  {
   "cell_type": "code",
   "execution_count": 6,
   "metadata": {},
   "outputs": [],
   "source": [
    "from toolbox import lists as ls\n",
    "\n",
    "algorithm_stmts = ls.algorithm_stmts"
   ]
  },
  {
   "cell_type": "code",
   "execution_count": 7,
   "metadata": {},
   "outputs": [],
   "source": [
    "def get_rand_set(min: int, max: int, size: int):\n",
    "    set = np.random.randint(min, max, size=size)\n",
    "    set = set.tolist()\n",
    "    return set\n",
    "\n",
    "buckets = []\n",
    "\n",
    "for run in range(runs):\n",
    "    bucket = get_rand_set(min, max, size)\n",
    "    # bucket = [1] * 1000\n",
    "    buckets.append(bucket)"
   ]
  },
  {
   "cell_type": "code",
   "execution_count": 8,
   "metadata": {},
   "outputs": [],
   "source": [
    "time_field_name = 'time (us)'\n",
    "results = {}"
   ]
  },
  {
   "cell_type": "code",
   "execution_count": 9,
   "metadata": {},
   "outputs": [],
   "source": [
    "for algorithm_name, algorithm_stmt in algorithm_stmts:\n",
    "    results[algorithm_name] = {}\n",
    "    results[algorithm_name][time_field_name] = 0\n",
    "    run_measurements = 0.0\n",
    "    for bucket in buckets:\n",
    "        measurement = timeit(\n",
    "            algorithm_stmt,\n",
    "            setup=\"\"\"from algorithms import sort_collection as sc\n",
    "from algorithms import test_collection as tc\"\"\",\n",
    "            globals={\"bucket\": bucket},\n",
    "            number=1)\n",
    "        run_measurements += measurement\n",
    "    \n",
    "    results[algorithm_name][time_field_name] = run_measurements / runs"
   ]
  },
  {
   "cell_type": "code",
   "execution_count": 10,
   "metadata": {},
   "outputs": [],
   "source": [
    "import os\n",
    "\n",
    "def prep_output_folder(folder_name: str, reset_output_data: bool):\n",
    "    '''\n",
    "    Prepare folder for output csv files\n",
    "    '''\n",
    "    if not os.path.exists(folder_name):\n",
    "        os.mkdir(folder_name)\n",
    "    else:\n",
    "        if reset_output_data:\n",
    "            for root, directories, files in os.walk(folder_name):\n",
    "                for file in files:\n",
    "                    file_path = root + '/' + file\n",
    "                    os.remove(file_path)"
   ]
  },
  {
   "cell_type": "code",
   "execution_count": 11,
   "metadata": {},
   "outputs": [
    {
     "name": "stdout",
     "output_type": "stream",
     "text": [
      "by name\n",
      "                time (us)\n",
      "crystal_sort     0.007702\n",
      "heap_sort        0.005666\n",
      "insertion_sort   0.000254\n",
      "merge_sort       0.003174\n",
      "push_sort        0.021386\n",
      "quick_sort       0.001536\n",
      "radix_sort       0.001021\n",
      "selection_sort   0.037362\n",
      "by value\n",
      "                time (us)\n",
      "insertion_sort   0.000254\n",
      "radix_sort       0.001021\n",
      "quick_sort       0.001536\n",
      "merge_sort       0.003174\n",
      "heap_sort        0.005666\n",
      "crystal_sort     0.007702\n",
      "push_sort        0.021386\n",
      "selection_sort   0.037362\n"
     ]
    }
   ],
   "source": [
    "df_by_name = pd.DataFrame().from_dict(results, orient='index')\n",
    "df_by_value = df_by_name.sort_values(by='time (us)', axis=0)\n",
    "print('by name')\n",
    "print(df_by_name)\n",
    "print('by value')\n",
    "print(df_by_value)\n",
    "prep_output_folder('results', reset_output_folder)\n",
    "file_name_by_name  = f'results/results_{runs:02}_runs__size_{size}__max_{max}_by_name.csv'\n",
    "file_name_by_value = f'results/results_{runs:02}_runs__size_{size}__max_{max}_by_value.csv'\n",
    "df_by_name.to_csv(file_name_by_name)\n",
    "df_by_value.to_csv(file_name_by_value)"
   ]
  }
 ],
 "metadata": {
  "kernelspec": {
   "display_name": "Python 3.9.10 64-bit (system)",
   "language": "python",
   "name": "python3"
  },
  "language_info": {
   "codemirror_mode": {
    "name": "ipython",
    "version": 3
   },
   "file_extension": ".py",
   "mimetype": "text/x-python",
   "name": "python",
   "nbconvert_exporter": "python",
   "pygments_lexer": "ipython3",
   "version": "3.9.10"
  },
  "orig_nbformat": 4,
  "vscode": {
   "interpreter": {
    "hash": "ea39f277c32e42a70ac33a9955d5db90fa842d600c2d5e7bbc9fa9fce34ad0c1"
   }
  }
 },
 "nbformat": 4,
 "nbformat_minor": 2
}
